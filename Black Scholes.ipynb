{
 "cells": [
  {
   "cell_type": "code",
   "execution_count": null,
   "id": "9a1b474d-2c1a-48a2-9ebb-ec41384f19e9",
   "metadata": {},
   "outputs": [],
   "source": [
    "\"\"\"C = N(d1)S - N(d2)Ke^-rt\n",
    "d1 = ln(St/K) + (r+(sigma^2/2)t\n",
    "d2 = 1 - sigma*sqrt(t)\n",
    "\n",
    "C = Call option price\n",
    "N = CDF of the normal distribution\n",
    "S = spot price of asset\n",
    "K = Strike price\n",
    "r = Rf int rate\n",
    "t = time to maturity\n",
    "sigma = volatility of the asset (stdev of log returns)\n",
    "\"\"\""
   ]
  },
  {
   "cell_type": "code",
   "execution_count": 8,
   "id": "9192602d-33f7-4a7e-bf65-2385cb780d37",
   "metadata": {},
   "outputs": [],
   "source": [
    "import numpy as np\n",
    "from scipy.stats import norm"
   ]
  },
  {
   "cell_type": "code",
   "execution_count": 96,
   "id": "0650695e-87be-42b3-8955-df196d2c9eb6",
   "metadata": {
    "scrolled": true
   },
   "outputs": [],
   "source": [
    "def get_inputs():\n",
    "    print('Enter the inputs for the Black Scholes Equation: ')\n",
    "    S = float(input('Stock price (S): '))\n",
    "    K = float(input('Strike price (K): '))\n",
    "    T = float(input('Time to expiration (T in years):  '))\n",
    "    r = float(input('Risk free interest rate (r as a decimal): '))\n",
    "    sigma = float(input('Volatility (sigma as a decimal): '))\n",
    "    return S, K, T, r, sigma\n",
    "def calculate_d1_d2(S,K,T,r,sigma):\n",
    "    d1 = (np.log(S / K) + (r + 0.5 * sigma**2) * T) / (sigma * np.sqrt(T))\n",
    "    d2 = d1 - (sigma * np.sqrt(T))\n",
    "    return d1, d2\n",
    "def calculate_option_price(S,K,T,r,sigma):\n",
    "    d1, d2 = calculate_d1_d2(S,K,T,r,sigma)\n",
    "    optionPrice = S * norm.cdf(d1) - norm.cdf(d2) * K * np.exp(-r * T)\n",
    "    return optionPrice\n"
   ]
  },
  {
   "cell_type": "code",
   "execution_count": 106,
   "id": "e182d9e5-4716-4815-a1f5-5977e1ecb742",
   "metadata": {},
   "outputs": [],
   "source": [
    "def FullFunction():\n",
    "    S, K, T, r, sigma = get_inputs()\n",
    "    optionPrice = calculate_option_price(S,K,T,r,sigma)\n",
    "    return optionPrice"
   ]
  },
  {
   "cell_type": "code",
   "execution_count": 108,
   "id": "5442d183-68e3-4e79-ba15-d6b681d4212e",
   "metadata": {},
   "outputs": [
    {
     "name": "stdout",
     "output_type": "stream",
     "text": [
      "Enter the inputs for the Black Scholes Equation: \n"
     ]
    },
    {
     "name": "stdin",
     "output_type": "stream",
     "text": [
      "Stock price (S):  50\n",
      "Strike price (K):  40\n",
      "Time to expiration (T in years):   1\n",
      "Risk free interest rate (r as a decimal):  .03\n",
      "Volatility (sigma as a decimal):  .2\n"
     ]
    },
    {
     "data": {
      "text/plain": [
       "11.611995646243379"
      ]
     },
     "execution_count": 108,
     "metadata": {},
     "output_type": "execute_result"
    }
   ],
   "source": [
    "FullFunction()"
   ]
  },
  {
   "cell_type": "code",
   "execution_count": null,
   "id": "63d3e3e9-8d21-43bc-adb6-3d71579f926f",
   "metadata": {},
   "outputs": [],
   "source": []
  }
 ],
 "metadata": {
  "kernelspec": {
   "display_name": "Python 3 (ipykernel)",
   "language": "python",
   "name": "python3"
  },
  "language_info": {
   "codemirror_mode": {
    "name": "ipython",
    "version": 3
   },
   "file_extension": ".py",
   "mimetype": "text/x-python",
   "name": "python",
   "nbconvert_exporter": "python",
   "pygments_lexer": "ipython3",
   "version": "3.12.7"
  }
 },
 "nbformat": 4,
 "nbformat_minor": 5
}
